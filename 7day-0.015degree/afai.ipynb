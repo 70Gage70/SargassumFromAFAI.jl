{
 "cells": [
  {
   "cell_type": "markdown",
   "metadata": {},
   "source": [
    "# Sargassum Density From AFAI\n",
    "\n",
    "The goal of this notebook is to convert AFAI data into Saragassum density."
   ]
  },
  {
   "cell_type": "code",
   "execution_count": 2,
   "metadata": {},
   "outputs": [],
   "source": [
    "using NetCDF"
   ]
  },
  {
   "cell_type": "markdown",
   "metadata": {},
   "source": [
    "## Testing\n",
    "\n",
    "We use the 7-day cumulative AFAI data from [NOAA](https://cwcgom.aoml.noaa.gov/erddap/griddap/noaa_aoml_atlantic_oceanwatch_AFAI_7D.html). Specifically, we start with April 1 2018 - May 1 2018. The netCDF is downloaded from here [click to download (~200 MB)](https://cwcgom.aoml.noaa.gov/erddap/griddap/noaa_aoml_atlantic_oceanwatch_AFAI_7D.nc?AFAI[(2018-04-01T00:00:00Z):7:(2018-05-01T00:00:00Z)][(0.0):1:(38.0)][(-98.0):1:(-38.0)])."
   ]
  },
  {
   "cell_type": "code",
   "execution_count": 3,
   "metadata": {},
   "outputs": [
    {
     "name": "stdout",
     "output_type": "stream",
     "text": [
      "\n",
      "##### NetCDF File #####\n",
      "\n",
      "/Users/gagebonner/Desktop/Repositories/SargassumFromAFAI.jl/7day-0.015degree/afai-7day-0015deg.nc\n",
      "\n",
      "##### Dimensions #####\n",
      "\n",
      "Name                                                Length                    \n",
      "--------------------------------------------------------------------------------\n",
      "latitude                                            2534                      \n",
      "time                                                5                         \n",
      "longitude                                           4001                      \n",
      "\n",
      "##### Variables #####\n",
      "\n",
      "Name                            Type            Dimensions                      \n",
      "--------------------------------------------------------------------------------\n",
      "AFAI                            FLOAT           longitude latitude time         \n",
      "latitude                        DOUBLE          latitude                        \n",
      "time                            DOUBLE          time                            \n",
      "longitude                       DOUBLE          longitude                       \n",
      "\n",
      "##### Attributes #####\n",
      "\n",
      "Variable            Name                Value                                   \n",
      "--------------------------------------------------------------------------------\n",
      "global              geospatial_lon_unitsdegrees_east                            \n",
      "global              license             The data may be used and redistributed..\n",
      "global              Northernmost_North..38.0                                    \n",
      "global              creator_email       Joaquin.Trinanes@noaa.gov               \n",
      "global              keywords            7-day, afai, algae, alternative, aoml,..\n",
      "global              time_coverage_end   2018-04-29T12:00:00Z                    \n",
      "global              cdm_data_type       Grid                                    \n",
      "global              geospatial_lat_res..0.015001973943939992                    \n",
      "global              time_coverage_start 2018-04-01T12:00:00Z                    \n",
      "global              history             2023-09-14T20:01:39Z https://cwcgom.ao..\n",
      "global              spatial_resolution  0.015                                   \n",
      "global              source_data         Optical Oceanography Laboratory- Colle..\n",
      "global              data_source         USDOC/NOAA/OAR/AOML/PHOD ATLANTIC OCEA..\n",
      "global              temporal_extent_unitseconds                                 \n",
      "global              standard_name_voca..CF Standard Name Table v32              \n",
      "global              temporal_extent     86400.0                                 \n",
      "global              comment             7-day cumulative Alternate Floating Al..\n",
      "global              origin              USDOC/NOAA/OAR/AOML/PHOD ATLANTIC OCEA..\n",
      "global              sourceUrl           https://cwcgom.aoml.noaa.gov/thredds/d..\n",
      "global              summary             7-day cumulative University of South F..\n",
      "global              geospatial_lat_min  0.0                                     \n",
      "global              creator_type        institution                             \n",
      "global              infoUrl             https://cwcgom.aoml.noaa.gov/thredds/d..\n",
      "global              creator_url         http://www.aoml.noaa.gov/phod/          \n",
      "global              geospatial_lon_res..0.015                                   \n",
      "global              Southernmost_North..0.0                                     \n",
      "global              Westernmost_Easting -98.0                                   \n",
      "global              Conventions         COARDS, CF-1.6, ACDD-1.3                \n",
      "global              contact             Joaquin.Trinanes@noaa.gov               \n",
      "global              creator_name        Physical Oceanography Division at NOAA..\n",
      "global              geospatial_lat_unitsdegrees_north                           \n",
      "global              geospatial_lon_max  -38.0                                   \n",
      "global              Easternmost_Easting -38.0                                   \n",
      "global              title               7-day cumulative USF AFAI Fields (USF ..\n",
      "global              geospatial_lat_max  38.0                                    \n",
      "global              geospatial_lon_min  -98.0                                   \n",
      "global              institution         USDOC/NOAA/OAR/AOML/PHOD                \n",
      "global              keywords_vocabulary GCMD Science Keywords                   \n",
      "AFAI                variable_info       7-day cumulative USF Alternative Float..\n",
      "AFAI                long_name           AFAI (Alternative Floating Algae Index) \n",
      "AFAI                colorBarMaximum     0.006                                   \n",
      "AFAI                colorBarMinimum     -0.004                                  \n",
      "AFAI                _FillValue          NaN                                     \n",
      "AFAI                coordsys            geographic                              \n",
      "AFAI                ioos_category       Biology                                 \n",
      "latitude            units               degrees_north                           \n",
      "latitude            axis                Y                                       \n",
      "latitude            long_name           Latitude                                \n",
      "latitude            actual_range        [0.0, 38.0]                             \n",
      "latitude            standard_name       latitude                                \n",
      "latitude            _CoordinateAxisType Lat                                     \n",
      "latitude            CoordinateAxisType  Lat                                     \n",
      "latitude            ioos_category       Location                                \n",
      "time                units               seconds since 1970-01-01T00:00:00Z      \n",
      "time                calendar            Gregorian                               \n",
      "time                time_origin         01-JAN-1970 00:00:00                    \n",
      "time                axis                T                                       \n",
      "time                long_name           Reference Time                          \n",
      "time                actual_range        [1.522584e9, 1.5250032e9]               \n",
      "time                standard_name       time                                    \n",
      "time                _CoordinateAxisType Time                                    \n",
      "time                CoordinateAxisType  Time                                    \n",
      "time                ioos_category       Time                                    \n",
      "longitude           units               degrees_east                            \n",
      "longitude           axis                X                                       \n",
      "longitude           long_name           Longitude                               \n",
      "longitude           actual_range        [-98.0, -38.0]                          \n",
      "longitude           standard_name       longitude                               \n",
      "longitude           _CoordinateAxisType Lon                                     \n",
      "longitude           CoordinateAxisType  Lon                                     \n",
      "longitude           ioos_category       Location                                \n"
     ]
    }
   ],
   "source": [
    "raw_filename = \"afai-7day-0015deg.nc\"\n",
    "ncinfo(raw_filename)"
   ]
  },
  {
   "cell_type": "code",
   "execution_count": null,
   "metadata": {},
   "outputs": [],
   "source": []
  }
 ],
 "metadata": {
  "kernelspec": {
   "display_name": "Julia 1.9.3",
   "language": "julia",
   "name": "julia-1.9"
  },
  "language_info": {
   "file_extension": ".jl",
   "mimetype": "application/julia",
   "name": "julia",
   "version": "1.9.3"
  },
  "orig_nbformat": 4
 },
 "nbformat": 4,
 "nbformat_minor": 2
}
